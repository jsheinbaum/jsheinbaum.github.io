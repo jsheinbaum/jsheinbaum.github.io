{
  "cells": [
    {
      "cell_type": "raw",
      "metadata": {},
      "source": [
        "---\n",
        "title: Makie Demo\n",
        "author: JSP\n",
        "date: 12/28/2022\n",
        "format:\n",
        "  html:\n",
        "    code-fold: true\n",
        "---"
      ],
      "id": "aa9d6979"
    },
    {
      "cell_type": "markdown",
      "metadata": {},
      "source": [
        "## TEST MAKIE\n"
      ],
      "id": "f45dc23e"
    },
    {
      "cell_type": "code",
      "metadata": {},
      "source": [
        "#| label: fig-streamplot\n",
        "#| fig-cap: Stream Plot\n",
        "\n",
        "#using Distributed\n",
        "#nprocs() == 1 && addprocs()\n",
        "@everywhere begin\n",
        "          import Pkg\n",
        "          Pkg.activate(\"/Users/julios/JULIA/CoherentStructures.jl/\")\n",
        "       end\n",
        "\n",
        "#@everywhere \n",
        "using CoherentStructures, StreamMacros\n",
        "const bickley = @velo_from_stream psi begin\n",
        "    psi  = psi₀ + psi₁\n",
        "    psi₀ = - U₀ * L₀ * tanh(y / L₀)\n",
        "    psi₁ =   U₀ * L₀ * sech(y / L₀)^2 * re_sum_term\n",
        "\n",
        "    re_sum_term = Σ₁ + Σ₂ + Σ₃\n",
        "\n",
        "    Σ₁ = ε₁ * cos(k₁*(x - c₁*t))\n",
        "    Σ₂ = ε₂ * cos(k₂*(x - c₂*t))\n",
        "    Σ₃ = ε₃ * cos(k₃*(x - c₃*t))\n",
        "\n",
        "    k₁ = 2/r₀    ; k₂ = 4/r₀   ; k₃ = 6/r₀\n",
        "    ε₁ = 0.0075  ; ε₂ = 0.15   ; ε₃ = 0.3\n",
        "    c₂ = 0.205U₀ ; c₃ = 0.461U₀; c₁ = c₃ + (√5-1)*(c₂-c₃)\n",
        "    U₀ = 62.66e-6; L₀ = 1770e-3; r₀ = 6371e-3\n",
        "end\n",
        "\n",
        "#@everywhere \n",
        "using OrdinaryDiffEq, Tensors\n",
        "q = 81\n",
        "const tspan = range(0., stop=3456000., length=q)\n",
        "ny = 61\n",
        "nx = (22ny) ÷ 6\n",
        "xmin, xmax, ymin, ymax = 0.0 - 2.0, 6.371π + 2.0, -3.0, 3.0\n",
        "xspan = range(xmin, stop=xmax, length=nx)\n",
        "yspan = range(ymin, stop=ymax, length=ny)\n",
        "P = tuple.(xspan, yspan')\n",
        "const δ = 1.e-6\n",
        "const D = SymmetricTensor{2,2}((2., 0., 1/2))\n",
        "mCG_tensor = u -> av_weighted_CG_tensor(bickley, u, tspan, δ; D=(_ -> D), tolerance=1e-6, solver=Tsit5())\n",
        "\n",
        "#C̅ = pmap(mCG_tensor, P; batch_size=ceil(Int, length(P)/nprocs()^2))\n",
        "C̅ = map(mCG_tensor, P)\n",
        "p = LCSParameters(2.0)\n",
        "vortices, singularities = ellipticLCS(C̅, xspan, yspan, p)\n",
        "\n",
        "using Plots\n",
        "trace = tensor_invariants(C̅)[5]\n",
        "fig = plot_vortices(vortices, singularities, (xmin, ymin), (xmax, ymax);\n",
        "    bg=trace, xspan=xspan, yspan=yspan, title=\"DBS field and transport barriers\", showlabel=false)\n",
        "Plots.plot(fig)"
      ],
      "id": "fig-streamplot",
      "execution_count": null,
      "outputs": []
    }
  ],
  "metadata": {
    "kernelspec": {
      "name": "julia-1.8",
      "language": "julia",
      "display_name": "Julia 1.8.5"
    }
  },
  "nbformat": 4,
  "nbformat_minor": 5
}