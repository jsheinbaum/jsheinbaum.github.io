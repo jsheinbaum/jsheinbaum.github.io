{
  "cells": [
    {
      "cell_type": "raw",
      "metadata": {},
      "source": [
        "---\n",
        "title: \"About\"\n",
        "format:\n",
        "  html:\n",
        "    toc: true\n",
        "    toc-location: left\n",
        "    number-sections: true\n",
        "    html-math-method: katex\n",
        "    css: styles.css\n",
        "---"
      ],
      "id": "0dec6115"
    },
    {
      "cell_type": "markdown",
      "metadata": {},
      "source": [
        "::: {.panel-tabset}\n",
        "## Julia\n"
      ],
      "id": "43b50163"
    },
    {
      "cell_type": "code",
      "metadata": {},
      "source": [
        "using CairoMakie\n",
        "\n",
        "xs = LinRange(0, 10, 100);\n",
        "ys = LinRange(0, 10, 100);\n",
        "zs = [cos(x) * sin(y) for x in xs, y in ys];\n",
        "us=[-cos(x) * cos(y) for x in xs, y in ys];\n",
        "vs=[-sin(x) * sin(y) for x in xs, y in ys];\n",
        "fig = Figure(backgroundcolor = RGBf0(0.98, 0.98, 0.98),\n",
        "    resolution = (1000, 600))\n",
        "\n",
        "ax1 = fig[1, 1] = Axis(fig, title = \"Test\")\n",
        "#scene, layout = layoutscene(resolution = (1000, 600))\n",
        "#scene, layout = layoutscene()\n",
        "#display(scene)\n",
        "#ax1 = layout[1,1] = LAxis(scene)\n",
        "heatmap!(ax1, xs, ys, zs, colormap=cgrad(:jet, 10, categorical=true), interpolate=true)\n",
        "ax1.aspect = AxisAspect(1)\n",
        "ax1.xticks = 1:10\n",
        "ax1.yticks = 0:10\n",
        "contour!(ax1,xs, ys, zs, levels = 10, linewidth = 1, fillrange = true)\n",
        "contour!(ax1,xs, ys, zs, levels = 10, linewidth = 0.2, fillrange = false, color = \"black\")\n",
        "arrows!(ax1,xs,ys,us,vs, arrowsize = 0.25, lengthscale = 0.25)\n",
        "#heatmap!(ax2, xs, ys, zs, colormap=:starrynight)\n",
        "#ax1.aspect = AxisAspect(1)\n",
        "fig"
      ],
      "id": "815bb775",
      "execution_count": null,
      "outputs": []
    },
    {
      "cell_type": "markdown",
      "metadata": {},
      "source": [
        "## Python\n",
        "\n",
        "\n",
        "```{python}\n",
        "import plotly.graph_objects as go\n",
        "\n",
        "import pandas as pd\n",
        "\n",
        "# Read data from a csv\n",
        "z_data = pd.read_csv('https://raw.githubusercontent.com/plotly/datasets/master/api_docs/mt_bruno_elevation.csv')\n",
        "\n",
        "fig = go.Figure(data=[go.Surface(z=z_data.values)])\n",
        "\n",
        "fig.update_layout(title='Mt Bruno Elevation', autosize=False,\n",
        "                  width=500, height=500,\n",
        "                  margin=dict(l=65, r=50, b=65, t=90))\n",
        "\n",
        "fig.show()\n",
        "```\n",
        "\n",
        "\n",
        ":::\n",
        "\n",
        "## Modelos de Capas\n",
        "\n",
        "$$\\dfrac {\\partial \\overrightarrow {u}_{i}}{\\partial t}+\\overrightarrow {u}_{i}\\cdot {\\nabla  \\overrightarrow u}_{i}+f  \\overrightarrow {k}\\times \\overrightarrow {u}_{i}=-\\dfrac {1}{\\rho _{0}}\\nabla P_{i}$$\n",
        "\n",
        "\n",
        "\n",
        "$$\\dfrac {\\partial h_{i}}{\\partial t}+\\nabla \\cdot \\left( h\\overrightarrow {u}_{i}\\right) =0$$\n",
        "\n",
        "$$\\dfrac {\\partial P}{\\partial z}=-\\rho g$$"
      ],
      "id": "559db6b0"
    }
  ],
  "metadata": {
    "kernelspec": {
      "name": "julia-nodeps-1.8",
      "language": "julia",
      "display_name": "Julia nodeps 1.8.5"
    }
  },
  "nbformat": 4,
  "nbformat_minor": 5
}